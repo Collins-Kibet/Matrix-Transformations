{
 "cells": [
  {
   "cell_type": "markdown",
   "metadata": {},
   "source": [
    "# Lab 2b: 3D Scatter Plots and Rotation Matrices\n",
    "## Task 1: Setup, Data Import and 3D Scatter Plots\n",
    "\n",
    "### 1a) Setup\n",
    "1. Import numpy\n",
    "2. Import matplotlib.pyplot"
   ]
  },
  {
   "cell_type": "code",
   "execution_count": 1,
   "metadata": {},
   "outputs": [],
   "source": [
    "# Header\n",
    "\n",
    "import numpy as np\n",
    "import matplotlib.pyplot as plt\n",
    "\n",
    "plt.style.use(['seaborn-colorblind', 'seaborn-darkgrid'])\n",
    "plt.rcParams['font.size'] = 15\n",
    "plt.rcParams[\"figure.figsize\"] = [8,4.5]\n",
    "\n",
    "np.set_printoptions(suppress=True, precision=5)\n",
    "\n",
    "# Automatically reload external modules\n",
    "%load_ext autoreload\n",
    "%autoreload 2"
   ]
  },
  {
   "cell_type": "markdown",
   "metadata": {},
   "source": [
    "### 1b) Import the Data\n",
    "1. Read the 3-dimensional toy dataset in 'data/gauss_3d.csv' into a numpy matrix with 3 columns (X, Y, and Z). [numpy.genfromtxt](https://numpy.org/doc/1.18/reference/generated/numpy.genfromtxt.html)\n",
    "2. Print the ndarray."
   ]
  },
  {
   "cell_type": "code",
   "execution_count": null,
   "metadata": {},
   "outputs": [],
   "source": [
    "gauss_csv = np.genfromtxt(\"data/gauss_3d.csv\", delimiter = ',')\n",
    "\n",
    "print(gauss_csv[1])\n",
    "\n",
    "gauss_csv.shape\n",
    "\n",
    "fig, ax = plt.subplots(3,1, figsize = (15,15))\n",
    "\n",
    "#subplots of X vs Y, Y vs Z, Z vs X\n",
    "\n",
    "#X vs Y\n",
    "ax[0].scatter(gauss_csv[:,0],gauss_csv[:,1])\n",
    "ax[0].set_title(\"X vs Y\")\n",
    "\n",
    "#Y vs Z\n",
    "ax[1].scatter(gauss_csv[:,1],gauss_csv[:,2])\n",
    "ax[1].set_title(\"Y vs z\")\n",
    "\n",
    "\n",
    "#Z vs X\n",
    "ax[2].scatter(gauss_csv[:,2],gauss_csv[:,0])\n",
    "ax[2].set_title(\"Z vs X\")\n",
    "\n"
   ]
  },
  {
   "cell_type": "markdown",
   "metadata": {},
   "source": [
    "## Task 2: 3D graphing\n",
    "\n",
    "- [MatPlotLib](https://matplotlib.org/)\n",
    "- [MatPlotLib mplot3d](https://matplotlib.org/mpl_toolkits/mplot3d/tutorial.html)\n",
    "- [MatPlotLib mplot3d demo](https://matplotlib.org/examples/mplot3d/scatter3d_demo.html)\n",
    "\n",
    "#### Using the above links and MatPlotLib documentation to complete the following tasks:\n",
    "\n",
    "Visualize the dataset with Matplotlib. All charts must include a title and axis labels.\n",
    "\n",
    "1. Create a 3D Cartesian figure: col 2 (X), col 1 (Y), and col 0 (Z). \n",
    "2. Use dots instead of a solid line."
   ]
  },
  {
   "cell_type": "code",
   "execution_count": 2,
   "metadata": {},
   "outputs": [],
   "source": [
    "%matplotlib notebook\n",
    "from mpl_toolkits.mplot3d import Axes3D\n"
   ]
  },
  {
   "cell_type": "markdown",
   "metadata": {},
   "source": [
    "## Task 2: Rotation\n",
    "\n",
    "### 2a) Prepare data for transformation matrices\n",
    "We need to add a column of 1s to our dataset.\n",
    "1. Create a matrix of ones of the correct dimensions. [numpy.ones](hhttps://numpy.org/doc/1.18/reference/generated/numpy.ones.html)\n",
    "2. Add the new column to the imported data. [numpy.hstack](https://numpy.org/doc/1.18/reference/generated/numpy.hstack.html)\n"
   ]
  },
  {
   "cell_type": "code",
   "execution_count": null,
   "metadata": {},
   "outputs": [],
   "source": []
  },
  {
   "cell_type": "markdown",
   "metadata": {},
   "source": [
    "<img src=\"img/Rotation-Matrix.png\" align=\"right\" width=\"200\"/>\n",
    "\n",
    "### 2b) Design a rotation matrix\n",
    "\n",
    "1. Design a transformation matrix that rotates the dataset 30 degrees about the Y axis\n",
    "  - Identity Matrix: [eye](https://numpy.org/doc/1.18/reference/generated/numpy.eye.html)\n",
    "  - [Trigonometric functions](https://numpy.org/doc/1.18/reference/routines.math.html)\n",
    "  - Print your matrix\n"
   ]
  },
  {
   "cell_type": "code",
   "execution_count": null,
   "metadata": {},
   "outputs": [],
   "source": []
  },
  {
   "cell_type": "markdown",
   "metadata": {},
   "source": [
    "### 2c) Rotate data and Visualize Results in 2D\n",
    "\n",
    "2. Multiply your transformation matrix with the dataset using matrix multiplication and transposed matrices\n",
    "  - m @ n or [matmul](https://numpy.org/doc/1.18/reference/generated/numpy.matmul.html) \n",
    "  - [transpose](https://numpy.org/doc/1.18/reference/generated/numpy.ndarray.T.html#numpy.ndarray.T)\n",
    "3. Create a figure with 3 subplots, graph the original data and rotated results for all 3 possible pairs of axes. Each subplot should have 2 datasets graphed on it, the original data and the rotated data in different colors.\n",
    "  - <i>If you implemented a function in the previous lab, you can use it here.</i>\n",
    "  - Each subplot should have a title\n",
    "  - The plot should include a legend labeling which color is which dataset."
   ]
  },
  {
   "cell_type": "code",
   "execution_count": null,
   "metadata": {},
   "outputs": [],
   "source": []
  },
  {
   "cell_type": "markdown",
   "metadata": {},
   "source": [
    "### 2d) Visualize Rotated Data in 3D\n",
    "\n",
    "- [MatPlotLib](https://matplotlib.org/)\n",
    "- [MatPlotLib mplot3d](https://matplotlib.org/mpl_toolkits/mplot3d/tutorial.html)\n",
    "- [MatPlotLib mplot3d demo](https://matplotlib.org/examples/mplot3d/scatter3d_demo.html)\n",
    "\n",
    "#### Using the above links and MatPlotLib documentation to complete the following tasks:\n",
    "\n",
    "Visualize the dataset with Matplotlib. All charts must include a title and axis labels.\n",
    "\n",
    "1. Create a 3D Cartesian figure with col 2 (X), col 1 (Y), and col 0 (Z). \n",
    "2. Use dots instead of a solid line.\n",
    "3. Graph the original dataset and rotated dataset on the same graph."
   ]
  },
  {
   "cell_type": "code",
   "execution_count": null,
   "metadata": {},
   "outputs": [],
   "source": []
  }
 ],
 "metadata": {
  "kernelspec": {
   "display_name": "Python 3",
   "language": "python",
   "name": "python3"
  },
  "language_info": {
   "codemirror_mode": {
    "name": "ipython",
    "version": 3
   },
   "file_extension": ".py",
   "mimetype": "text/x-python",
   "name": "python",
   "nbconvert_exporter": "python",
   "pygments_lexer": "ipython3",
   "version": "3.7.6"
  }
 },
 "nbformat": 4,
 "nbformat_minor": 2
}
